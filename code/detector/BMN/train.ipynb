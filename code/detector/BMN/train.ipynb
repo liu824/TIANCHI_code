{
 "cells": [
  {
   "cell_type": "markdown",
   "metadata": {},
   "source": [
    "# 训练开始喽"
   ]
  },
  {
   "cell_type": "code",
   "execution_count": 3,
   "metadata": {},
   "outputs": [
    {
     "name": "stdout",
     "output_type": "stream",
     "text": [
      "Looking in indexes: https://pypi.mirrors.ustc.edu.cn/simple/\n",
      "Collecting wget\n",
      "  Downloading https://mirrors.tuna.tsinghua.edu.cn/pypi/web/packages/47/6a/62e288da7bcda82b935ff0c6cfe542970f04e29c756b0e147251b2fb251f/wget-3.2.zip\n",
      "Building wheels for collected packages: wget\n",
      "  Building wheel for wget (setup.py) ... \u001b[?25ldone\n",
      "\u001b[?25h  Created wheel for wget: filename=wget-3.2-cp37-none-any.whl size=9680 sha256=1f0b592aeb94d1213fb30715e3f85ec2c169530df546f748c219519ee5fba577\n",
      "  Stored in directory: /home/aistudio/.cache/pip/wheels/66/f1/21/e66341be6896f448d82023d2ec30e135b484e1493325924c03\n",
      "Successfully built wget\n",
      "Installing collected packages: wget\n",
      "Successfully installed wget-3.2\n"
     ]
    }
   ],
   "source": [
    "!pip install wget"
   ]
  },
  {
   "cell_type": "code",
   "execution_count": 1,
   "metadata": {},
   "outputs": [
    {
     "name": "stderr",
     "output_type": "stream",
     "text": [
      "'export' 不是内部或外部命令，也不是可运行的程序\n",
      "或批处理文件。\n",
      "'export' 不是内部或外部命令，也不是可运行的程序\n",
      "或批处理文件。\n",
      "'export' 不是内部或外部命令，也不是可运行的程序\n",
      "或批处理文件。\n",
      "'export' 不是内部或外部命令，也不是可运行的程序\n",
      "或批处理文件。\n",
      "Traceback (most recent call last):\n",
      "  File \"train.py\", line 22, in <module>\n",
      "    import paddle.fluid as fluid\n",
      "ModuleNotFoundError: No module named 'paddle'\n"
     ]
    }
   ],
   "source": [
    "!export CUDA_VISIBLE_DEVICES=0\n",
    "!export FLAGS_eager_delete_tensor_gb=0.0\n",
    "!export FLAGS_fraction_of_gpu_memory_to_use=0.98\n",
    "!export FLAGS_fast_eager_deletion_mode=1\n",
    "\n",
    "!python code/train.py --model_name=BMN \\\n",
    "                --config=code/configs/bmn.yaml \\\n",
    "                --log_interval=10 \\\n",
    "                --valid_interval=1 \\\n",
    "                --use_gpu=True \\\n",
    "                --pretrain=data/dataset/bmn/BMN.pdparams\\\n",
    "                --save_dir=code/data/checkpoints"
   ]
  },
  {
   "cell_type": "markdown",
   "metadata": {},
   "source": [
    "请点击[此处](https://ai.baidu.com/docs#/AIStudio_Project_Notebook/a38e5576)查看本环境基本用法.  <br>\n",
    "Please click [here ](https://ai.baidu.com/docs#/AIStudio_Project_Notebook/a38e5576) for more detailed instructions. "
   ]
  }
 ],
 "metadata": {
  "kernelspec": {
   "display_name": "Python 3",
   "language": "python",
   "name": "python3"
  },
  "language_info": {
   "codemirror_mode": {
    "name": "ipython",
    "version": 3
   },
   "file_extension": ".py",
   "mimetype": "text/x-python",
   "name": "python",
   "nbconvert_exporter": "python",
   "pygments_lexer": "ipython3",
   "version": "3.7.4"
  }
 },
 "nbformat": 4,
 "nbformat_minor": 1
}
