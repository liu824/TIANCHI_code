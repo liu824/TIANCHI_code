{
 "cells": [
  {
   "cell_type": "code",
   "execution_count": 1,
   "metadata": {},
   "outputs": [
    {
     "name": "stderr",
     "output_type": "stream",
     "text": [
      "Traceback (most recent call last):\n",
      "  File \"predict.py\", line 26, in <module>\n",
      "    import paddle.fluid as fluid\n",
      "ModuleNotFoundError: No module named 'paddle'\n"
     ]
    }
   ],
   "source": [
    "!python code/predict.py --model_name=BMN \\\n",
    "                  --config=code/configs/bmn.yaml\\\n",
    "                  --log_interval=1 \\\n",
    "                  --weights=user_data/model_data/BMN.pdopt\\\n",
    "                  --use_gpu=True"
   ]
  },
  {
   "cell_type": "code",
   "execution_count": null,
   "metadata": {},
   "outputs": [],
   "source": []
  }
 ],
 "metadata": {
  "kernelspec": {
   "display_name": "Python 3",
   "language": "python",
   "name": "python3"
  },
  "language_info": {
   "codemirror_mode": {
    "name": "ipython",
    "version": 3
   },
   "file_extension": ".py",
   "mimetype": "text/x-python",
   "name": "python",
   "nbconvert_exporter": "python",
   "pygments_lexer": "ipython3",
   "version": "3.7.4"
  }
 },
 "nbformat": 4,
 "nbformat_minor": 1
}
