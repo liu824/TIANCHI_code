{
 "cells": [
  {
   "cell_type": "markdown",
   "metadata": {},
   "source": [
    "# 下载部分测试数据看是否能跑通"
   ]
  },
  {
   "cell_type": "code",
   "execution_count": null,
   "metadata": {},
   "outputs": [],
   "source": [
    "F:\\天池视频时序事件检测\\BMN\\生成proposal\\code\\data\\dataset\\bmn\\videofeature"
   ]
  },
  {
   "cell_type": "code",
   "execution_count": 2,
   "metadata": {},
   "outputs": [
    {
     "name": "stdout",
     "output_type": "stream",
     "text": [
      "download video:0\n",
      "download video:1\n",
      "download video:2\n",
      "download video:3\n",
      "download video:4\n",
      "download video:5\n",
      "download video:6\n",
      "download video:7\n",
      "download video:8\n",
      "download video:9\n"
     ]
    }
   ],
   "source": [
    "#下载测试集,暂时只下载视频特征\n",
    "import requests\n",
    "import os\n",
    "\n",
    "subset='val'\n",
    "data={}\n",
    "requests.adapters.DEFAULT_RETRIES = 5#增加连线数\n",
    "s = requests.session()\n",
    "s.keep_alive = False#关闭多余线程\n",
    "i=0\n",
    "\n",
    "testdata=open('data/val_video_ids.txt','r')\n",
    "lines=testdata.readlines()\n",
    "for line in lines:\n",
    "    videoId=line.strip('\\n')\n",
    "    # video='http://tianchi-competition.oss-cn-hangzhou.aliyuncs.com/531798/'+subset+'/video/'+videoId+'.mp4'         # 视频文件\n",
    "    video_feature='http://tianchi-competition.oss-cn-hangzhou.aliyuncs.com/531798/'+subset+'/i3d_feature/'+videoId+'.npy'   # 视频特征\n",
    "    volum='http://tianchi-competition.oss-cn-hangzhou.aliyuncs.com/531798/'+subset+'/vggish_feature/'+videoId+'.npy'# 音频特征\n",
    "\n",
    "\n",
    "    # video_path = os.path.join('work',subset,'video',str(videoId)+'.mp4')\n",
    "    videofeature_path = os.path.join('data/dataset/bmn','videofeature',str(videoId)+'.npy')\n",
    "    # volum_path = os.path.join('work',subset,'vox',str(videoId)+'.npy')\n",
    "    if os.path.exists(videofeature_path):#判断文件是否已存在\n",
    "        print('video:{} is exist'.format(i))\n",
    "    else:\n",
    "        # r1 = s.get(video)\n",
    "        r2 = s.get(video_feature)\n",
    "        # r3 = s.get(volum)\n",
    "\n",
    "        # f1=open(video_path,'wb')\n",
    "        f2=open(videofeature_path,'wb')\n",
    "        # f3=open(volum_path,'wb')\n",
    "\n",
    "        # f1.write(r1.content)\n",
    "        f2.write(r2.content)\n",
    "        # f3.write(r3.content)\n",
    "        print('download video:{}'.format(i))\n",
    "    i=i+1 \n",
    "    if i==10:\n",
    "        break"
   ]
  },
  {
   "cell_type": "code",
   "execution_count": null,
   "metadata": {},
   "outputs": [],
   "source": []
  }
 ],
 "metadata": {
  "kernelspec": {
   "display_name": "Python 3",
   "language": "python",
   "name": "python3"
  },
  "language_info": {
   "codemirror_mode": {
    "name": "ipython",
    "version": 3
   },
   "file_extension": ".py",
   "mimetype": "text/x-python",
   "name": "python",
   "nbconvert_exporter": "python",
   "pygments_lexer": "ipython3",
   "version": "3.7.4"
  }
 },
 "nbformat": 4,
 "nbformat_minor": 1
}
